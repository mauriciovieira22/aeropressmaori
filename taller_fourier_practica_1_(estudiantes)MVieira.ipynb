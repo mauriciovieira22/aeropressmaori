{
  "cells": [
    {
      "cell_type": "markdown",
      "metadata": {
        "id": "view-in-github",
        "colab_type": "text"
      },
      "source": [
        "<a href=\"https://colab.research.google.com/github/aeropressmaori/aeropressmaori/blob/Taller_Fourier_EDM/taller_fourier_practica_1_(estudiantes)MVieira.ipynb\" target=\"_parent\"><img src=\"https://colab.research.google.com/assets/colab-badge.svg\" alt=\"Open In Colab\"/></a>"
      ]
    },
    {
      "cell_type": "markdown",
      "metadata": {
        "id": "ivJdiKPgrInS"
      },
      "source": [
        "# Taller Fourier EDM - Clasificación de cargas de electrodomésticos"
      ]
    },
    {
      "cell_type": "markdown",
      "metadata": {
        "id": "1V-AdL7vrInY"
      },
      "source": [
        "## Práctica 1 - Python, manejo de datos, gráficas\n",
        "\n",
        "### Objetivos:\n",
        "En esta práctica se introducen algunas herramientas de manejo de datos en Python que van a ser útiles para las prácticas del curso\n",
        "\n",
        "\n",
        "### Materiales\n",
        "\n",
        "Links a tutoriales y recursos de Python en el eva del curso"
      ]
    },
    {
      "cell_type": "markdown",
      "metadata": {
        "heading_collapsed": true,
        "id": "2QjTy1wRrInZ"
      },
      "source": [
        "### Trabajo a realizar\n",
        "\n",
        "A lo largo del notebook encontraran las siguientes palabras claves:\n",
        "\n",
        "* \\# COMPLETAR  -> indica que se requiere completar el código. \n",
        "  \n",
        "  \n",
        "* \\# EXPERIMENTAR -> indica que la celda contiene código funcional que permite experimentar variando el tipo de electrodoméstico, parámetros de las funciones, etc. Es posible, si lo requiere la experimentación duplicar la celda y realizar los cambio que sean de interés en el código.\n",
        "  \n",
        "  \n",
        "* \\# DISCUTIR -> se espera una discusión de los experimentos realizados y/o de las preguntas formuladas\n",
        "  \n",
        "  \n",
        "  \n",
        "* \\# RESPONDER -> se espera una respuesta a preguntas concretas"
      ]
    },
    {
      "cell_type": "markdown",
      "metadata": {
        "id": "U8Egc9bsrInb"
      },
      "source": [
        "## Parte 1 - Definición de los módulos a usar"
      ]
    },
    {
      "cell_type": "code",
      "execution_count": 1,
      "metadata": {
        "tags": [],
        "id": "ZX007vY0rInb"
      },
      "outputs": [],
      "source": [
        "# En esta celda se definen los modulos que se van a usar en el notebook \n",
        "# También se configuran otros aspectos comunes a toda la práctica\n",
        "\n",
        "import os\n",
        "import numpy as np\n",
        "import pandas as pd\n",
        "from scipy.fftpack import fft, fftshift, ifft\n",
        "from scipy.signal import spectrogram\n",
        "import matplotlib.pyplot as plt\n",
        "\n",
        "#estilo de las gráficas\n",
        "plt.style.use('ggplot')\n",
        "\n",
        "# FORMAS DE VER LAS GRAFICAS --------------------\n",
        "# ELEGIR UNA DE LAS OPCIONES Y DES-COMENTAR (sacar # de la linea)\n",
        "# ----------------\n",
        "# a) graficas en línea  entre las celdas (no interactivo)\n",
        "#%matplotlib inline\n",
        "# ---------------- \n",
        "# b) graficas en línea  entre las celdas con pan/zoom\n",
        "%matplotlib notebook\n",
        "# ----------------\n",
        "# c) graficas en ventanas externas (abre una ventana por cada figura)\n",
        "# %matplotlib\n",
        "# ----------------\n",
        "# d) Si se usa \"jupyter lab\" en lugar de \"jupyter notebook\" usar %matplotlib widget en lugar de %matplotlib notebook \n",
        "# requiere instalar el modulo \"ipympl\". Ver https://stackoverflow.com/questions/51922480/javascript-error-ipython-is-not-defined-in-jupyterlab#56416229\n",
        "# %matplotlib widget\n",
        "#---------------------------------------------------"
      ]
    },
    {
      "cell_type": "code",
      "execution_count": null,
      "metadata": {
        "tags": [],
        "colab": {
          "resources": {
            "http://localhost:8080/nbextensions/google.colab/files.js": {
              "data": "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",
              "ok": true,
              "headers": [
                [
                  "content-type",
                  "application/javascript"
                ]
              ],
              "status": 200,
              "status_text": ""
            }
          },
          "base_uri": "https://localhost:8080/",
          "height": 38
        },
        "id": "DzKZ8qCkrInd",
        "outputId": "36ff2bf1-476d-4cce-f0d1-31c2a65f331a"
      },
      "outputs": [
        {
          "output_type": "display_data",
          "data": {
            "text/plain": [
              "<IPython.core.display.HTML object>"
            ],
            "text/html": [
              "\n",
              "     <input type=\"file\" id=\"files-c1259237-1d62-48d3-b4bb-1bf110e76864\" name=\"files[]\" multiple disabled\n",
              "        style=\"border:none\" />\n",
              "     <output id=\"result-c1259237-1d62-48d3-b4bb-1bf110e76864\">\n",
              "      Upload widget is only available when the cell has been executed in the\n",
              "      current browser session. Please rerun this cell to enable.\n",
              "      </output>\n",
              "      <script src=\"/nbextensions/google.colab/files.js\"></script> "
            ]
          },
          "metadata": {}
        }
      ],
      "source": [
        "# # Subida de archivo de datos si se usa Colab \n",
        "from google.colab import files\n",
        "import io\n",
        "datos = files.upload()"
      ]
    },
    {
      "cell_type": "markdown",
      "metadata": {
        "id": "MT9c-se1rIne"
      },
      "source": [
        "## Parte 2 - Creación de arrays en numpy"
      ]
    },
    {
      "cell_type": "code",
      "execution_count": null,
      "metadata": {
        "tags": [],
        "id": "q6nsdCZRrInf"
      },
      "outputs": [],
      "source": [
        "print('-------------------------------------------------')\n",
        "# Crear un array unidimensional\n",
        "a = np.array([10, 20, 30, 40, 50])\n",
        "print('array a')\n",
        "# Imprimir el tipo de dato\n",
        "print(a.dtype)\n",
        "# Imprimir las dimensiones del array\n",
        "print(a.shape)    \n",
        "\n",
        "\n",
        "print('-------------------------------------------------')\n",
        "# Crear un array bidimensional\n",
        "b = np.array([[1.5, 2.3, 3], [4.44, 5.67, 6.88]])\n",
        "print('array b')\n",
        "print(b.dtype)\n",
        "print(b.shape)\n",
        "print(b)\n",
        "\n",
        "print('-------------------------------------------------')\n",
        "# Crear un array de un tipo de datos específico\n",
        "c = np.array([[1,2,3],[4,5,6]], dtype = np.uint8)\n",
        "print('array c:  tipo:',c.dtype)\n",
        "\n",
        "\n",
        "print('-------------------------------------------------')\n",
        "# Existen distintas funciones que permiten crear arrays en numpy\n",
        "# Ej. np.ones(...), np.zeros(...), np.random.rand(...)\n",
        "z = np.zeros((3,4))\n",
        "print('array z\\n', z)\n",
        "\n",
        "print('-------------------------------------------------')\n",
        "# string con formato \n",
        "np_array = b\n",
        "info = 'tipo:{}, dimensión:{}, tamaño:{}'.format(np_array.dtype, np_array.ndim, np_array.shape)\n",
        "print(np_array)\n",
        "print(info)\n"
      ]
    },
    {
      "cell_type": "code",
      "source": [
        ""
      ],
      "metadata": {
        "id": "hai1m-fPs7QX"
      },
      "execution_count": null,
      "outputs": []
    },
    {
      "cell_type": "code",
      "execution_count": null,
      "metadata": {
        "tags": [],
        "id": "QFe3NnNjrIng"
      },
      "outputs": [],
      "source": [
        "# EXPERIMENTAR Duplicar la celda de arriba y realizar pruebas  \n"
      ]
    },
    {
      "cell_type": "code",
      "execution_count": null,
      "metadata": {
        "tags": [],
        "id": "WDq_plhtrInh"
      },
      "outputs": [],
      "source": [
        "# EXPERIMENTAR con otras funciones como \n",
        "# np.arange(...), np.ones(...), np.random.rand(...), np.random.randint(...), np.eye(...) \n",
        "\n",
        "# Tip de jupyter notebook: SHIFT-TAB cuando el cusor está sobre una función muestra la ayuda"
      ]
    },
    {
      "cell_type": "code",
      "source": [
        "print('-----------------------')\n",
        "notas = np.arange(1, 13, 1)\n",
        "print('np.arange: ', notas)\n",
        "print('-----------------------')\n",
        "unos = np.ones((3,4))\n",
        "print('np.ones: ', unos)\n",
        "print('-----------------------')\n",
        "rand = np.random.rand(3,2)\n",
        "print('np.random.rand: ', rand)\n",
        "print('-----------------------')\n",
        "rand_int = np.random.randint(5, size=(2,4))\n",
        "print('np.random.randint: ', rand_int)\n",
        "print('-----------------------')\n",
        "diagonal = np.eye(3)\n",
        "print('np.eye: ', diagonal)"
      ],
      "metadata": {
        "id": "qWwGRruqtZK9"
      },
      "execution_count": null,
      "outputs": []
    },
    {
      "cell_type": "markdown",
      "metadata": {
        "id": "8WR3W8ZkrInh"
      },
      "source": [
        "## Parte 3 - Acceso a los datos de un array\n",
        "El acceso en cada dimensión sigue el esquema [desde(incluido) : hasta(excluido) : paso]   \n",
        "Si no se especifica 'desde' entonces equivale a 'desde el índice 0'  \n",
        "Si no se especifica 'hasta' entonces equivale a 'hasta el último (en el sentido que dictamine 'paso')'  \n",
        "El 'paso' por defecto es 1\n",
        "\n"
      ]
    },
    {
      "cell_type": "code",
      "execution_count": null,
      "metadata": {
        "tags": [],
        "id": "74P6ocsErIni"
      },
      "outputs": [],
      "source": [
        "print('=================================================')\n",
        "# Crear un array bidimensional\n",
        "# b = np.array([[1.5, 2.3, 3], [4.44, 5.67, 6.88]])\n",
        "print('b')\n",
        "print(b)\n",
        "print('-------------------------------------------------')\n",
        "# acceder a los elementos de un array\n",
        "print('b[0, 0] b[0, 1] b[1, 0]')\n",
        "print(b[0, 0], b[0, 1], b[1, 0])   \n",
        "\n",
        "print('-------------------------------------------------')\n",
        "# acceder a una columna de b\n",
        "print('Columna 1 de b')\n",
        "print(b[:,1])\n",
        "\n",
        "\n",
        "print('=================================================')\n",
        "# Crear un array unidimensional\n",
        "# a = np.array([10, 20, 30, 40, 50])\n",
        "print('a')\n",
        "print(a)\n",
        "print('-------------------------------------------------')\n",
        "# acceder al primer elemento de a\n",
        "print(a[0])\n",
        "# acceder a los dos primeros elementos de a\n",
        "print(a[:2])\n",
        "# acceder al último elemento de a\n",
        "print(a[-1])\n",
        "# acceder a los elementos de a pero saltando de a dos\n",
        "print(a[::2])\n",
        "# acceder a los elementos de a pero en orden invertido\n",
        "print(a[-1::-1])\n",
        "\n",
        "\n",
        "print('=================================================')\n",
        "print('---vista y copia---------------------------------')\n",
        "print('b inicial')\n",
        "print(b)\n",
        "print('-------------------------------------------------')\n",
        "\n",
        "g = b[:,1]  # g es una vista de una columna de b\n",
        "print(g)    # \n",
        "print(b)\n",
        "g[0] = np.random.randint(100)  # cambiamos el primer elemento de g\n",
        "print(g)\n",
        "print(b)    # y vemos que b también cambió ->  SON LOS MISMOS DATOS !!\n",
        "\n",
        "h = b[:,2].copy()  # h es una copia de una columna de b. SI cambiamos h, no va a cambiar b\n",
        "print(h)\n",
        "h[1] = np.random.randint(100)\n",
        "print(h)\n",
        "print(b)\n",
        "\n"
      ]
    },
    {
      "cell_type": "code",
      "execution_count": null,
      "metadata": {
        "tags": [],
        "id": "_q67bUz3rInj"
      },
      "outputs": [],
      "source": [
        "# EXPERIMENTAR Duplicar la celda de arriba y realizar pruebas \n",
        "# de distintas formas de acceder y/o modificar los elementos de un array  \n"
      ]
    },
    {
      "cell_type": "code",
      "execution_count": null,
      "metadata": {
        "tags": [],
        "id": "pNx5OYHwrInj"
      },
      "outputs": [],
      "source": [
        "# EXPERIMENTAR\n",
        "# tratar de predecir la salida antes de correr cada celda\n",
        "# para correr, descomentar el código quitando las comillas triples\n",
        "\n",
        "\n",
        "x = np.arange(21,54,2)\n",
        "print(x)\n",
        "\n",
        "# x = [21 23 25 27 29 31 33 35 37 39 41 43 45 47 49 51 53]"
      ]
    },
    {
      "cell_type": "code",
      "execution_count": null,
      "metadata": {
        "id": "jOxr5zl7rInk"
      },
      "outputs": [],
      "source": [
        "\n",
        "y = x[2:5]\n",
        "print(y)\n",
        "\n",
        "# y = [25 27 29]"
      ]
    },
    {
      "cell_type": "code",
      "execution_count": null,
      "metadata": {
        "id": "92VG_CZZrInk"
      },
      "outputs": [],
      "source": [
        "\n",
        "y = x[-1::-1]\n",
        "print(y)\n",
        "\n",
        "# y = [53 51 49 47 45 43 41 39 37 35 33 31 29 27 25 23 21]"
      ]
    },
    {
      "cell_type": "code",
      "execution_count": null,
      "metadata": {
        "id": "YfTokm4zrInk"
      },
      "outputs": [],
      "source": [
        "\n",
        "b = np.array([[1,2,3],[4,5,6]])\n",
        "print(b)\n",
        "\n",
        "# b = [[1 2 3]\n",
        "#      [4 5 6]]\n",
        "\n",
        "y = b[:,1]\n",
        "print(y)\n",
        "\n",
        "# y = [2 5]\n",
        "\n",
        "y = b[:,-1::-1]\n",
        "print(y)\n",
        "\n",
        "# y = [[3 2 1]\n",
        "#      [6 5 4]]\n"
      ]
    },
    {
      "cell_type": "markdown",
      "metadata": {
        "id": "iMEcNorxrInl"
      },
      "source": [
        "## Parte 4 - Crear arrays y graficar\n",
        "1. Crear un array de N muestras de una señal sinusoidal de amplitud A y frecuencia F. La frecuencia de muestreo es Fs (la llamamos señal S1)\n",
        "2. Crear un array de N muestras de una señal también sinusoidal, con las mismas características de (a) pero con un desfasaje de 40º (la llamamos señal S2)\n",
        "3. Crear un vector de tiempos de largo N\n",
        "4. En una misma gráficar mostrar las señales S1 y S2 en función del tiempo (se sugiere usar las funciones `plt.figure()`, `plt.plot()`, `plt.title()`, `plt.legend()`, `plt.xlabel()` y `plt.ylabel()`).\n",
        "5. En otra gráfica mostrar S2 vs. S1\n",
        "6. Repetir las gráficas pero usando subplots (función `plt.subplot()`)\n"
      ]
    },
    {
      "cell_type": "code",
      "execution_count": 2,
      "metadata": {
        "tags": [],
        "id": "i3rfzNJ7rInl",
        "colab": {
          "base_uri": "https://localhost:8080/",
          "height": 1000
        },
        "outputId": "64fa3da7-6eb4-43d4-ab06-35c5147db29e"
      },
      "outputs": [
        {
          "output_type": "stream",
          "name": "stdout",
          "text": [
            "[ 0.          0.47471545  0.90063034  1.23396078  1.44044053  1.49884355\n",
            "  1.40316605  1.16324361  0.80374019  0.36161259 -0.11768864 -0.58489153\n",
            " -0.9919678  -1.29707016 -1.46883422 -1.48960269 -1.35724058 -1.08535467\n",
            " -0.70189472 -0.24628027  0.2346517   0.69146156  1.07718945  1.35218268\n",
            "  1.48817205  1.47117792  1.30294727  1.00077415  0.59572184  0.12942955\n",
            " -0.35016805 -0.7937685  -1.15576986 -1.39895853 -1.49833481 -1.44368285\n",
            " -1.24062086 -0.91002353 -0.48587613 -0.01178085  0.46352549  0.89118159\n",
            "  1.22722458  1.43710935  1.49925984  1.407287    1.17064561  0.8136623\n",
            "  0.37303483 -0.10594048 -0.57402515 -0.98310026 -1.29111304 -1.46639991\n",
            " -1.49094143 -1.36221476 -1.09345294 -0.71228458 -0.25789365  0.22300865\n",
            "  0.68098575  1.06895778  1.34704136  1.48664962  1.47343088  1.30874401\n",
            "  1.00951877  0.60651539  0.14116247 -0.3387019  -0.78374785 -1.14822482\n",
            " -1.39466473 -1.49773365 -1.44683613 -1.24720442 -0.91936058 -0.49700683\n",
            " -0.02356098  0.45230694  0.88167788  1.22041267  1.43368952  1.49958365\n",
            "  1.41132115  1.1779754   0.82353423  0.38443406 -0.09418578 -0.56312336\n",
            " -0.97417207 -1.28507628 -1.46387514 -1.49218821 -1.36710491 -1.10148376\n",
            " -0.72263051 -0.26949112  0.21135185  0.67046793  1.06066017  1.34181696\n",
            "  1.48503549  1.47559294  1.31446002  1.01820112  0.61727154  0.15288668\n",
            " -0.32721486 -0.77367885 -1.14060895 -1.39028489 -1.49704009 -1.44990015\n",
            " -1.25371104 -0.92864092 -0.50810688 -0.03533965  0.44106049  0.87211978\n",
            "  1.21352549  1.43018126  1.49981495  1.41526825  1.18523252  0.83335535\n",
            "  0.39580957 -0.08242527 -0.55218683 -0.9651838  -1.27896025 -1.46126008\n",
            " -1.49334295 -1.37191074 -1.10944664 -0.73293186 -0.28107197  0.19968201\n",
            "  0.65990875  1.05229714  1.33650979  1.48332975  1.47766399  1.32009495\n",
            "  1.02682066  0.62798961  0.16460147 -0.31570764 -0.76356212 -1.13292272\n",
            " -1.3858193  -1.49625419 -1.45287474 -1.26014033 -0.93786398 -0.51917559\n",
            " -0.04711614  0.42978683  0.86250788  1.20656345  1.42658477  1.49995374\n",
            "  1.41912804  1.19241653  0.84312507  0.40716067 -0.07065968 -0.54121624\n",
            " -0.95613598 -1.27276532 -1.45855488 -1.49440556 -1.37663194 -1.11734108\n",
            " -0.743188   -0.29263548  0.18799985  0.64930887  1.04386919  1.33112017\n",
            "  1.48153251  1.47964389  1.32564845  1.03537686  0.63866894  0.1763061\n",
            " -0.30418094 -0.7533983  -1.1251666  -1.38126822 -1.495376   -1.45575971\n",
            " -1.26649189 -0.94702919 -0.53021227 -0.05888972  0.41848666  0.85284278\n",
            "  1.19952699  1.42290029]\n",
            "[ 0.96418141  1.27827581  1.46096395  1.49346557  1.3724395   1.11032719\n",
            "  0.73407368  0.28235768 -0.19838459 -0.65873299 -1.0513639  -1.33591501\n",
            " -1.48313457 -1.47788848 -1.32071603 -1.02777449 -0.62917812 -0.1659025\n",
            "  0.31442784  0.76243512  1.13206437  1.38531784  1.49616117  1.45319972\n",
            "  1.26084991  0.93888521  0.52040348  0.04842447 -0.42853255 -0.86143659\n",
            " -1.20578529 -1.42617973 -1.49996345 -1.4195515  -1.19321022 -0.84420739\n",
            " -0.40842037  0.06935211  0.53999521  0.95512702  1.27207214  1.45824875\n",
            "  1.49451794  1.37715128  1.118214    0.74432476  0.29391922 -0.1867011\n",
            " -0.64812862 -1.04292877 -1.33051625 -1.48132717 -1.47985824 -1.32626046\n",
            " -1.03632362 -0.63985311 -0.17760595  0.30289903  0.75226611  1.12430052\n",
            "  1.38075728  1.49527273  1.45607472  1.2671928   0.94804395  0.53143656\n",
            "  0.06019769 -0.41722948 -0.85176562 -1.19874058 -1.42248548 -1.49999943\n",
            " -1.42331402 -1.20031248 -0.85391929 -0.41974352  0.05758171  0.52898757\n",
            "  0.94601371  1.26579001  1.45544359  1.49547813  1.38177811  1.12603183\n",
            "  0.75452992  0.30546263 -0.17500611 -0.63748428 -1.03442932 -1.32503542\n",
            " -1.4794284  -1.48173672 -1.33172308 -1.04480882 -0.65048863 -0.18929845\n",
            "  0.29135153  0.74205068  1.11646732  1.37611155  1.49429205  1.4588599\n",
            "  1.27345753  0.95714422  0.54243686  0.07196719 -0.40590067 -0.8420421\n",
            " -1.19162193 -1.41870349 -1.49994288 -1.42698873 -1.2073407  -0.8635785\n",
            " -0.43104078  0.04580777  0.5179473   0.93684205  1.2594298   1.45254865\n",
            "  1.49634608  1.3863197   1.1337802   0.76468854  0.31698719 -0.16330031\n",
            " -0.62680061 -1.02586605 -1.31947286 -1.47743837 -1.4835238  -1.33710355\n",
            " -1.05322958 -0.66108402 -0.20097928  0.27978605  0.73178949  1.10856525\n",
            "  1.37138093  1.49321919  1.4615551   1.27964371  0.96618544  0.55340369\n",
            "  0.08373226 -0.39454682 -0.83226664 -1.18442977 -1.41483399 -1.49979382\n",
            " -1.43057543 -1.21429444 -0.87318446 -0.44231145  0.034031    0.50687508\n",
            "  0.92761259  1.2529919   1.44956412  1.49712172  1.39077578  1.14145864\n",
            "  0.77479999  0.32849221 -0.15158445 -0.61607828 -1.0172395  -1.31382891\n",
            " -1.47535721 -1.48521936 -1.34240154 -1.06158537 -0.67163863 -0.21264771\n",
            "  0.26820332  0.72148315  1.1005948   1.36656572  1.49205423  1.46416013\n",
            "  1.28575095  0.97516707  0.56433639  0.09549216 -0.38316864 -0.82243984\n",
            " -1.17716456 -1.41087721 -1.49955223 -1.43407387 -1.22117328 -0.88273654\n",
            " -0.45355484  0.02225213  0.49577159  0.91832592  1.2464767   1.44649017\n",
            "  1.49780501  1.39514607]\n"
          ]
        },
        {
          "output_type": "display_data",
          "data": {
            "text/plain": [
              "<Figure size 432x288 with 1 Axes>"
            ],
            "image/png": "[encoded data removed]"
          },
          "metadata": {
            "needs_background": "light"
          }
        }
      ],
      "source": [
        "frecuencia_muestreo = 8000\n",
        "amplitud = 1.5\n",
        "frecuencia = 410\n",
        "cantidad_muestras = 200\n",
        "theta = np.deg2rad(40)\n",
        "\n",
        "# COMPLETAR\n",
        "\n",
        "# Sample spacing\n",
        "T = 1 / frecuencia_muestreo\n",
        "\n",
        "# Array de tiempo\n",
        "tiempo = np.arange(0, cantidad_muestras/frecuencia_muestreo, T)\n",
        "\n",
        "# Array para S1\n",
        "S1 = amplitud * np.sin(2 * np.pi * frecuencia * tiempo)\n",
        "# print(S1)\n",
        "\n",
        "# Array para S2\n",
        "S2 = amplitud * np.sin(2 * np.pi * frecuencia * tiempo + theta)\n",
        "# print(S2)\n",
        "\n",
        "# Plot S1 y S2 en la misma gráfica\n",
        "plt.figure()\n",
        "plt.plot(tiempo, S1)\n",
        "plt.plot(tiempo, S2)\n",
        "plt.title('Gráfica de las señales S1 y S2')\n",
        "plt.xlabel('tiempo')\n",
        "plt.ylabel('Amplitud')\n",
        "plt.show()"
      ]
    },
    {
      "cell_type": "markdown",
      "metadata": {
        "id": "1vMDg2_orInl"
      },
      "source": [
        "## Parte 5 - Transformada de Fourier\n",
        "Calcular la transformada de Fourier de la señal sinusoidal S1 de la parte anterior.   \n",
        "Usar funciones del módulo scipy.fftpack   "
      ]
    },
    {
      "cell_type": "code",
      "execution_count": null,
      "metadata": {
        "tags": [],
        "id": "HYS_9b-erInm"
      },
      "outputs": [],
      "source": [
        "# COMPLETAR  calcular y graficar\n",
        "TdF_S1 = fft(S1)"
      ]
    },
    {
      "cell_type": "markdown",
      "metadata": {
        "id": "dbSb4qmLrInm"
      },
      "source": [
        "## Parte 6 - Cargar datos desde un archivo de texto\n",
        "Existen diversas librerías para cargar datos desde archivos, acá proponemos usar dos: numpy y pandas. En general numpy es más sencilla de usar, pero pandas es más potente. "
      ]
    },
    {
      "cell_type": "markdown",
      "metadata": {
        "tags": [],
        "id": "l8-ezrf4rInm"
      },
      "source": [
        "### Parte 6.1 - Cargar datos de un archivo de texto con funciones de numpy\n",
        "Usar las funciones ```np.loadtxt(...)``` o ```np.genfromtxt(...)``` para cargar los datos del archivo ```datos.csv``` en el directorio ```data``` a un array *numpy*.  \n",
        "Tener en cuenta que los datos están en columnas separados por ',' y que en la primera fila se encuentran los encabezados.\n"
      ]
    },
    {
      "cell_type": "code",
      "execution_count": null,
      "metadata": {
        "tags": [],
        "id": "fEW_B-yRrInn"
      },
      "outputs": [],
      "source": [
        "# COMPLETAR cargar los datos a un array, mostrar propiedades del array y graficar"
      ]
    },
    {
      "cell_type": "markdown",
      "metadata": {
        "tags": [],
        "id": "mW40z0QbrInn"
      },
      "source": [
        "### Parte 6.2 - Cargar datos de un archivo de texto con funciones de pandas\n",
        "Usar la función pd.read_csv(...) del módulo pandas para leer los datos  del archivo ```datos.csv``` en el directorio data a un *dataframe*. Obtener a partir del *dataframe* un array de *numpy*."
      ]
    },
    {
      "cell_type": "code",
      "execution_count": null,
      "metadata": {
        "tags": [],
        "id": "rQFVQHITrInn"
      },
      "outputs": [],
      "source": [
        "# COMPLETAR cargar los datos a un dataframe, mostrar propiedades del dataframe, \n",
        "# obtener el array de numpy y graficar"
      ]
    },
    {
      "cell_type": "markdown",
      "metadata": {
        "id": "ikM69wTBrInn"
      },
      "source": [
        "## Parte 7 - Operaciones \n"
      ]
    },
    {
      "cell_type": "markdown",
      "metadata": {
        "tags": [],
        "id": "LSCT3nUorInn"
      },
      "source": [
        "### Calcular promedios"
      ]
    },
    {
      "cell_type": "code",
      "execution_count": null,
      "metadata": {
        "tags": [],
        "id": "Z7O8nr7FrIno"
      },
      "outputs": [],
      "source": [
        "#np.random.seed(789)   #descomentar para chequear los resultados, comentar para que p cambie  en cada corrida\n",
        "p = np.random.rand(10,3)\n",
        "print(p)\n",
        "\n",
        "# calcular la media de todos los elementos de p:   0.48544143187616673\n",
        "# COMPLETAR\n",
        "\n",
        "\n",
        "# calcular la media de las columnas de p.          [0.54815742 0.39199966 0.51616722]\n",
        "# COMPLETAR\n",
        "\n",
        "\n",
        "# calcular la media de las filas de p.             \n",
        "# [0.44912027 0.78623868 0.04879567 0.37839235 0.58661954 0.32941742 0.2934381  0.51920083 0.71125536 0.75193609]\n",
        "# COMPLETAR\n",
        "\n",
        "\n",
        "\n",
        "\n",
        "\n"
      ]
    },
    {
      "cell_type": "markdown",
      "metadata": {
        "id": "82SkRyXKrIno"
      },
      "source": [
        "### Suma ponderada de dos arrays"
      ]
    },
    {
      "cell_type": "code",
      "execution_count": null,
      "metadata": {
        "tags": [],
        "id": "4o_JssEerIno"
      },
      "outputs": [],
      "source": [
        "# Realizar la suma ponderada de las señales S1 y S2 de la parte 3 con pesos 0.3 y 0.7 respectivamente\n",
        "# COMPLETAR : calcular la suma ponderada y graficar\n"
      ]
    },
    {
      "cell_type": "markdown",
      "metadata": {
        "id": "ibix8w-DrIno"
      },
      "source": [
        "## Parte 8 - Funciones\n",
        "Definir una función que realice la suma ponderada mencionada en la parte anterior.   \n",
        "La función recibe dos arrays y dos pesos. Dentro de la función se chequea que los dos arrays sean de la mismas dimensiones, se realiza la suma ponderada y se devuelve el array resultado.\n",
        "\n"
      ]
    },
    {
      "cell_type": "code",
      "execution_count": null,
      "metadata": {
        "tags": [],
        "id": "Ta4wvYZArIno"
      },
      "outputs": [],
      "source": [
        "def suma_ponderada(array1, array2, peso1, peso2):\n",
        "    # COMPLETAR\n",
        "    \n",
        "    \n",
        "    return resultado\n",
        "\n",
        "\n",
        "# usar la función\n",
        "W = suma_ponderada(S1, S2, 0.3, 0.7)\n",
        "\n",
        "# COMPLETAR graficar"
      ]
    }
  ],
  "metadata": {
    "kernelspec": {
      "display_name": "Python 3.6.9 64-bit",
      "language": "python",
      "name": "python3"
    },
    "language_info": {
      "codemirror_mode": {
        "name": "ipython",
        "version": 3
      },
      "file_extension": ".py",
      "mimetype": "text/x-python",
      "name": "python",
      "nbconvert_exporter": "python",
      "pygments_lexer": "ipython3",
      "version": "3.6.9"
    },
    "latex_envs": {
      "LaTeX_envs_menu_present": true,
      "autoclose": false,
      "autocomplete": true,
      "bibliofile": "biblio.bib",
      "cite_by": "apalike",
      "current_citInitial": 1,
      "eqLabelWithNumbers": true,
      "eqNumInitial": 1,
      "hotkeys": {
        "equation": "Ctrl-E",
        "itemize": "Ctrl-I"
      },
      "labels_anchors": false,
      "latex_user_defs": false,
      "report_style_numbering": false,
      "user_envs_cfg": false
    },
    "toc": {
      "base_numbering": 1,
      "nav_menu": {},
      "number_sections": false,
      "sideBar": true,
      "skip_h1_title": false,
      "title_cell": "Table of Contents",
      "title_sidebar": "Contents",
      "toc_cell": false,
      "toc_position": {},
      "toc_section_display": true,
      "toc_window_display": false
    },
    "varInspector": {
      "cols": {
        "lenName": 16,
        "lenType": 16,
        "lenVar": 40
      },
      "kernels_config": {
        "python": {
          "delete_cmd_postfix": "",
          "delete_cmd_prefix": "del ",
          "library": "var_list.py",
          "varRefreshCmd": "print(var_dic_list())"
        },
        "r": {
          "delete_cmd_postfix": ") ",
          "delete_cmd_prefix": "rm(",
          "library": "var_list.r",
          "varRefreshCmd": "cat(var_dic_list()) "
        }
      },
      "types_to_exclude": [
        "module",
        "function",
        "builtin_function_or_method",
        "instance",
        "_Feature"
      ],
      "window_display": false
    },
    "vscode": {
      "interpreter": {
        "hash": "31f2aee4e71d21fbe5cf8b01ff0e069b9275f58929596ceb00d14d90e3e16cd6"
      }
    },
    "colab": {
      "name": "taller_fourier_practica_1 (estudiantes).ipynb",
      "provenance": [],
      "collapsed_sections": [],
      "include_colab_link": true
    },
    "accelerator": "TPU",
    "gpuClass": "standard"
  },
  "nbformat": 4,
  "nbformat_minor": 0
}